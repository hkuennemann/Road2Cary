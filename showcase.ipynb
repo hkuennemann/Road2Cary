{
 "cells": [
  {
   "cell_type": "code",
   "execution_count": 1,
   "metadata": {},
   "outputs": [],
   "source": [
    "import LibRoad2Cary as R2C"
   ]
  },
  {
   "cell_type": "code",
   "execution_count": 2,
   "metadata": {},
   "outputs": [
    {
     "data": {
      "application/vnd.plotly.v1+json": {
       "config": {
        "displayModeBar": false,
        "doubleClick": false,
        "plotlyServerURL": "https://plot.ly",
        "scrollZoom": false
       },
       "data": [
        {
         "lat": [
          51.5719,
          55.6761
         ],
         "line": {
          "color": "black",
          "dash": "dot"
         },
         "lon": [
          -0.776,
          12.5683
         ],
         "mode": "lines",
         "showlegend": false,
         "type": "scattergeo"
        },
        {
         "lat": [
          55.6761,
          60.1695
         ],
         "line": {
          "color": "black",
          "dash": "dot"
         },
         "lon": [
          12.5683,
          24.9354
         ],
         "mode": "lines",
         "showlegend": false,
         "type": "scattergeo"
        },
        {
         "lat": [
          60.1695,
          59.3293
         ],
         "line": {
          "color": "black",
          "dash": "dot"
         },
         "lon": [
          24.9354,
          18.0686
         ],
         "mode": "lines",
         "showlegend": false,
         "type": "scattergeo"
        },
        {
         "lat": [
          59.3293,
          59.9139
         ],
         "line": {
          "color": "black",
          "dash": "dot"
         },
         "lon": [
          18.0686,
          10.7522
         ],
         "mode": "lines",
         "showlegend": false,
         "type": "scattergeo"
        },
        {
         "lat": [
          59.9139,
          55.8642
         ],
         "line": {
          "color": "black",
          "dash": "dot"
         },
         "lon": [
          10.7522,
          -4.2518
         ],
         "mode": "lines",
         "showlegend": false,
         "type": "scattergeo"
        },
        {
         "lat": [
          55.8642,
          53.3498
         ],
         "line": {
          "color": "black",
          "dash": "dot"
         },
         "lon": [
          -4.2518,
          -6.2603
         ],
         "mode": "lines",
         "showlegend": false,
         "type": "scattergeo"
        },
        {
         "lat": [
          53.3498,
          35.7915
         ],
         "line": {
          "color": "black",
          "dash": "dot"
         },
         "lon": [
          -6.2603,
          -78.7811
         ],
         "mode": "lines",
         "showlegend": false,
         "type": "scattergeo"
        },
        {
         "hoverinfo": "text",
         "lat": [
          51.5719
         ],
         "lon": [
          -0.776
         ],
         "marker": {
          "color": "black",
          "size": 8,
          "symbol": "diamond"
         },
         "mode": "markers",
         "showlegend": false,
         "text": "Marlow",
         "type": "scattergeo"
        },
        {
         "hoverinfo": "skip",
         "lat": [
          51.5719,
          49.1219
         ],
         "line": {
          "color": "black",
          "dash": "dot",
          "width": 1.5
         },
         "lon": [
          -0.776,
          0.974
         ],
         "mode": "lines",
         "showlegend": false,
         "type": "scattergeo"
        },
        {
         "hoverinfo": "skip",
         "lat": [
          48.0719
         ],
         "lon": [
          1.724
         ],
         "mode": "text",
         "showlegend": false,
         "text": [
          "Marlow"
         ],
         "textfont": {
          "color": "black",
          "size": 14
         },
         "textposition": "middle center",
         "type": "scattergeo"
        },
        {
         "hoverinfo": "text",
         "lat": [
          55.6761
         ],
         "lon": [
          12.5683
         ],
         "marker": {
          "color": "black",
          "size": 8,
          "symbol": "diamond"
         },
         "mode": "markers",
         "showlegend": false,
         "text": "Copenhagen",
         "type": "scattergeo"
        },
        {
         "hoverinfo": "skip",
         "lat": [
          55.6761,
          53.226099999999995
         ],
         "line": {
          "color": "black",
          "dash": "dot",
          "width": 1.5
         },
         "lon": [
          12.5683,
          12.5683
         ],
         "mode": "lines",
         "showlegend": false,
         "type": "scattergeo"
        },
        {
         "hoverinfo": "skip",
         "lat": [
          52.1761
         ],
         "lon": [
          12.5683
         ],
         "mode": "text",
         "showlegend": false,
         "text": [
          "Copenhagen"
         ],
         "textfont": {
          "color": "black",
          "size": 14
         },
         "textposition": "middle center",
         "type": "scattergeo"
        },
        {
         "hoverinfo": "text",
         "lat": [
          60.1695
         ],
         "lon": [
          24.9354
         ],
         "marker": {
          "color": "black",
          "size": 8,
          "symbol": "diamond"
         },
         "mode": "markers",
         "showlegend": false,
         "text": "Helsinki",
         "type": "scattergeo"
        },
        {
         "hoverinfo": "skip",
         "lat": [
          60.1695,
          63.6695
         ],
         "line": {
          "color": "black",
          "dash": "dot",
          "width": 1.5
         },
         "lon": [
          24.9354,
          24.9354
         ],
         "mode": "lines",
         "showlegend": false,
         "type": "scattergeo"
        },
        {
         "hoverinfo": "skip",
         "lat": [
          65.1695
         ],
         "lon": [
          24.9354
         ],
         "mode": "text",
         "showlegend": false,
         "text": [
          "Helsinki"
         ],
         "textfont": {
          "color": "black",
          "size": 14
         },
         "textposition": "middle center",
         "type": "scattergeo"
        },
        {
         "hoverinfo": "text",
         "lat": [
          59.3293
         ],
         "lon": [
          18.0686
         ],
         "marker": {
          "color": "black",
          "size": 8,
          "symbol": "diamond"
         },
         "mode": "markers",
         "showlegend": false,
         "text": "Stockholm",
         "type": "scattergeo"
        },
        {
         "hoverinfo": "skip",
         "lat": [
          59.3293,
          62.1293
         ],
         "line": {
          "color": "black",
          "dash": "dot",
          "width": 1.5
         },
         "lon": [
          18.0686,
          18.0686
         ],
         "mode": "lines",
         "showlegend": false,
         "type": "scattergeo"
        },
        {
         "hoverinfo": "skip",
         "lat": [
          63.3293
         ],
         "lon": [
          18.0686
         ],
         "mode": "text",
         "showlegend": false,
         "text": [
          "Stockholm"
         ],
         "textfont": {
          "color": "black",
          "size": 14
         },
         "textposition": "middle center",
         "type": "scattergeo"
        },
        {
         "hoverinfo": "text",
         "lat": [
          59.9139
         ],
         "lon": [
          10.7522
         ],
         "marker": {
          "color": "black",
          "size": 8,
          "symbol": "diamond"
         },
         "mode": "markers",
         "showlegend": false,
         "text": "Oslo",
         "type": "scattergeo"
        },
        {
         "hoverinfo": "skip",
         "lat": [
          59.9139,
          61.3139
         ],
         "line": {
          "color": "black",
          "dash": "dot",
          "width": 1.5
         },
         "lon": [
          10.7522,
          10.4022
         ],
         "mode": "lines",
         "showlegend": false,
         "type": "scattergeo"
        },
        {
         "hoverinfo": "skip",
         "lat": [
          61.9139
         ],
         "lon": [
          10.2522
         ],
         "mode": "text",
         "showlegend": false,
         "text": [
          "Oslo"
         ],
         "textfont": {
          "color": "black",
          "size": 14
         },
         "textposition": "middle center",
         "type": "scattergeo"
        },
        {
         "hoverinfo": "text",
         "lat": [
          55.8642
         ],
         "lon": [
          -4.2518
         ],
         "marker": {
          "color": "black",
          "size": 8,
          "symbol": "diamond"
         },
         "mode": "markers",
         "showlegend": false,
         "text": "Glasgow",
         "type": "scattergeo"
        },
        {
         "hoverinfo": "skip",
         "lat": [
          55.8642,
          57.9642
         ],
         "line": {
          "color": "black",
          "dash": "dot",
          "width": 1.5
         },
         "lon": [
          -4.2518,
          -4.2518
         ],
         "mode": "lines",
         "showlegend": false,
         "type": "scattergeo"
        },
        {
         "hoverinfo": "skip",
         "lat": [
          58.8642
         ],
         "lon": [
          -4.2518
         ],
         "mode": "text",
         "showlegend": false,
         "text": [
          "Glasgow"
         ],
         "textfont": {
          "color": "black",
          "size": 14
         },
         "textposition": "middle center",
         "type": "scattergeo"
        },
        {
         "hoverinfo": "text",
         "lat": [
          53.3498
         ],
         "lon": [
          -6.2603
         ],
         "marker": {
          "color": "black",
          "size": 8,
          "symbol": "diamond"
         },
         "mode": "markers",
         "showlegend": false,
         "text": "Dublin",
         "type": "scattergeo"
        },
        {
         "hoverinfo": "skip",
         "lat": [
          53.3498,
          51.2498
         ],
         "line": {
          "color": "black",
          "dash": "dot",
          "width": 1.5
         },
         "lon": [
          -6.2603,
          -7.660299999999999
         ],
         "mode": "lines",
         "showlegend": false,
         "type": "scattergeo"
        },
        {
         "hoverinfo": "skip",
         "lat": [
          50.3498
         ],
         "lon": [
          -8.2603
         ],
         "mode": "text",
         "showlegend": false,
         "text": [
          "Dublin"
         ],
         "textfont": {
          "color": "black",
          "size": 14
         },
         "textposition": "middle center",
         "type": "scattergeo"
        },
        {
         "hoverinfo": "text",
         "lat": [
          35.7915
         ],
         "lon": [
          -78.7811
         ],
         "marker": {
          "color": "black",
          "size": 8,
          "symbol": "diamond"
         },
         "mode": "markers",
         "showlegend": false,
         "text": "Cary",
         "type": "scattergeo"
        },
        {
         "hoverinfo": "skip",
         "lat": [
          35.7915,
          37.8915
         ],
         "line": {
          "color": "black",
          "dash": "dot",
          "width": 1.5
         },
         "lon": [
          -78.7811,
          -79.83109999999999
         ],
         "mode": "lines",
         "showlegend": false,
         "type": "scattergeo"
        },
        {
         "hoverinfo": "skip",
         "lat": [
          38.7915
         ],
         "lon": [
          -80.2811
         ],
         "mode": "text",
         "showlegend": false,
         "text": [
          "Cary"
         ],
         "textfont": {
          "color": "black",
          "size": 14
         },
         "textposition": "middle center",
         "type": "scattergeo"
        },
        {
         "hoverinfo": "text",
         "lat": [
          52.050871346280445
         ],
         "lon": [
          0.45096064665774804
         ],
         "marker": {
          "color": "Blue",
          "size": 6
         },
         "mode": "markers",
         "showlegend": false,
         "text": "    Cardio Cocktails<br>100.0 km",
         "type": "scattergeo"
        },
        {
         "hoverinfo": "text",
         "lat": [
          52.5167569604602
         ],
         "lon": [
          1.7040750006899186
         ],
         "marker": {
          "color": "Blue",
          "size": 6
         },
         "mode": "markers",
         "showlegend": false,
         "text": "    Catch us if you can<br>200.0 km",
         "type": "scattergeo"
        },
        {
         "hoverinfo": "text",
         "lat": [
          52.96905831588144
         ],
         "lon": [
          2.9835844076617244
         ],
         "marker": {
          "color": "Blue",
          "size": 6
         },
         "mode": "markers",
         "showlegend": false,
         "text": "    Channel Sales<br>300.0 km",
         "type": "scattergeo"
        },
        {
         "hoverinfo": "text",
         "lat": [
          53.407267321853446
         ],
         "lon": [
          4.289661523067484
         ],
         "marker": {
          "color": "Blue",
          "size": 6
         },
         "mode": "markers",
         "showlegend": false,
         "text": "    Commercial SAles + Drinkers with an Exercise Problem + NERDS<br>400.0 km",
         "type": "scattergeo"
        },
        {
         "hoverinfo": "text",
         "lat": [
          53.83086765432619
         ],
         "lon": [
          5.622402319504732
         ],
         "marker": {
          "color": "Blue",
          "size": 6
         },
         "mode": "markers",
         "showlegend": false,
         "text": "    IDeaS_1<br>500.0 km",
         "type": "scattergeo"
        },
        {
         "hoverinfo": "text",
         "lat": [
          54.23933630853258
         ],
         "lon": [
          6.981817927075325
         ],
         "marker": {
          "color": "Blue",
          "size": 6
         },
         "mode": "markers",
         "showlegend": false,
         "text": "    IDeaS_2<br>600.0 km",
         "type": "scattergeo"
        },
        {
         "hoverinfo": "text",
         "lat": [
          54.6321453833792
         ],
         "lon": [
          8.367826421331912
         ],
         "marker": {
          "color": "Blue",
          "size": 6
         },
         "mode": "markers",
         "showlegend": false,
         "text": "    NE FS CA<br>700.0 km",
         "type": "scattergeo"
        },
        {
         "hoverinfo": "text",
         "lat": [
          55.00876410427452
         ],
         "lon": [
          9.780244694770227
         ],
         "marker": {
          "color": "Blue",
          "size": 6
         },
         "mode": "markers",
         "showlegend": false,
         "text": "    NE Marketing<br>800.0 km",
         "type": "scattergeo"
        },
        {
         "hoverinfo": "text",
         "lat": [
          55.36866108721395
         ],
         "lon": [
          11.218780569427558
         ],
         "marker": {
          "color": "Blue",
          "size": 6
         },
         "mode": "markers",
         "showlegend": false,
         "text": "    Platform Consulting Team!<br>900.0 km",
         "type": "scattergeo"
        },
        {
         "hoverinfo": "text",
         "lat": [
          55.722666473021086
         ],
         "lon": [
          12.668413332185716
         ],
         "marker": {
          "color": "Blue",
          "size": 6
         },
         "mode": "markers",
         "showlegend": false,
         "text": "    Team A<br>1000.0 km",
         "type": "scattergeo"
        },
        {
         "hoverinfo": "text",
         "lat": [
          56.286905149776274
         ],
         "lon": [
          13.915601051757873
         ],
         "marker": {
          "color": "Blue",
          "size": 6
         },
         "mode": "markers",
         "showlegend": false,
         "text": "    Team B<br>1100.0 km",
         "type": "scattergeo"
        },
        {
         "hoverinfo": "text",
         "lat": [
          56.838160323270145
         ],
         "lon": [
          15.199638608072991
         ],
         "marker": {
          "color": "Blue",
          "size": 6
         },
         "mode": "markers",
         "showlegend": false,
         "text": "    Team C<br>1200.0 km",
         "type": "scattergeo"
        },
        {
         "hoverinfo": "text",
         "lat": [
          57.37577336197886
         ],
         "lon": [
          16.521492506540408
         ],
         "marker": {
          "color": "Blue",
          "size": 6
         },
         "mode": "markers",
         "showlegend": false,
         "text": "    Team D<br>1300.0 km",
         "type": "scattergeo"
        },
        {
         "hoverinfo": "text",
         "lat": [
          57.89905851991
         ],
         "lon": [
          17.88206394783682
         ],
         "marker": {
          "color": "Blue",
          "size": 6
         },
         "mode": "markers",
         "showlegend": false,
         "text": "    Team E<br>1400.0 km",
         "type": "scattergeo"
        },
        {
         "hoverinfo": "text",
         "lat": [
          58.40730365047338
         ],
         "lon": [
          19.282171898598
         ],
         "marker": {
          "color": "Blue",
          "size": 6
         },
         "mode": "markers",
         "showlegend": false,
         "text": "    Team F<br>1500.0 km",
         "type": "scattergeo"
        },
        {
         "hoverinfo": "text",
         "lat": [
          58.899771333668674
         ],
         "lon": [
          20.722534431232894
         ],
         "marker": {
          "color": "Blue",
          "size": 6
         },
         "mode": "markers",
         "showlegend": false,
         "text": "    Team G<br>1600.0 km",
         "type": "scattergeo"
        }
       ],
       "layout": {
        "annotations": [
         {
          "font": {
           "color": "gray",
           "size": 12
          },
          "showarrow": false,
          "text": "Last updated: 2025-06-10 22:43:42",
          "x": 0.25,
          "xref": "paper",
          "y": 0.05,
          "yref": "paper"
         }
        ],
        "autosize": true,
        "dragmode": false,
        "geo": {
         "coastlinecolor": "darkgray",
         "coastlinewidth": 0.3,
         "countrycolor": "#D9D9D9",
         "fitbounds": "locations",
         "landcolor": "#F2F2F2",
         "oceancolor": "#C4DEFD",
         "resolution": 50,
         "showcoastlines": true,
         "showcountries": true,
         "showland": true,
         "showocean": true
        },
        "images": [
         {
          "layer": "above",
          "sizex": 0.2,
          "sizey": 0.2,
          "source": "data:image/png;base64,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",
          "x": 0.905,
          "xanchor": "center",
          "xref": "paper",
          "y": 0.125,
          "yanchor": "middle",
          "yref": "paper"
         }
        ],
        "margin": {
         "b": 0,
         "l": 0,
         "r": 0,
         "t": 0
        },
        "showlegend": false,
        "template": {
         "data": {
          "bar": [
           {
            "error_x": {
             "color": "#2a3f5f"
            },
            "error_y": {
             "color": "#2a3f5f"
            },
            "marker": {
             "line": {
              "color": "#E5ECF6",
              "width": 0.5
             },
             "pattern": {
              "fillmode": "overlay",
              "size": 10,
              "solidity": 0.2
             }
            },
            "type": "bar"
           }
          ],
          "barpolar": [
           {
            "marker": {
             "line": {
              "color": "#E5ECF6",
              "width": 0.5
             },
             "pattern": {
              "fillmode": "overlay",
              "size": 10,
              "solidity": 0.2
             }
            },
            "type": "barpolar"
           }
          ],
          "carpet": [
           {
            "aaxis": {
             "endlinecolor": "#2a3f5f",
             "gridcolor": "white",
             "linecolor": "white",
             "minorgridcolor": "white",
             "startlinecolor": "#2a3f5f"
            },
            "baxis": {
             "endlinecolor": "#2a3f5f",
             "gridcolor": "white",
             "linecolor": "white",
             "minorgridcolor": "white",
             "startlinecolor": "#2a3f5f"
            },
            "type": "carpet"
           }
          ],
          "choropleth": [
           {
            "colorbar": {
             "outlinewidth": 0,
             "ticks": ""
            },
            "type": "choropleth"
           }
          ],
          "contour": [
           {
            "colorbar": {
             "outlinewidth": 0,
             "ticks": ""
            },
            "colorscale": [
             [
              0,
              "#0d0887"
             ],
             [
              0.1111111111111111,
              "#46039f"
             ],
             [
              0.2222222222222222,
              "#7201a8"
             ],
             [
              0.3333333333333333,
              "#9c179e"
             ],
             [
              0.4444444444444444,
              "#bd3786"
             ],
             [
              0.5555555555555556,
              "#d8576b"
             ],
             [
              0.6666666666666666,
              "#ed7953"
             ],
             [
              0.7777777777777778,
              "#fb9f3a"
             ],
             [
              0.8888888888888888,
              "#fdca26"
             ],
             [
              1,
              "#f0f921"
             ]
            ],
            "type": "contour"
           }
          ],
          "contourcarpet": [
           {
            "colorbar": {
             "outlinewidth": 0,
             "ticks": ""
            },
            "type": "contourcarpet"
           }
          ],
          "heatmap": [
           {
            "colorbar": {
             "outlinewidth": 0,
             "ticks": ""
            },
            "colorscale": [
             [
              0,
              "#0d0887"
             ],
             [
              0.1111111111111111,
              "#46039f"
             ],
             [
              0.2222222222222222,
              "#7201a8"
             ],
             [
              0.3333333333333333,
              "#9c179e"
             ],
             [
              0.4444444444444444,
              "#bd3786"
             ],
             [
              0.5555555555555556,
              "#d8576b"
             ],
             [
              0.6666666666666666,
              "#ed7953"
             ],
             [
              0.7777777777777778,
              "#fb9f3a"
             ],
             [
              0.8888888888888888,
              "#fdca26"
             ],
             [
              1,
              "#f0f921"
             ]
            ],
            "type": "heatmap"
           }
          ],
          "histogram": [
           {
            "marker": {
             "pattern": {
              "fillmode": "overlay",
              "size": 10,
              "solidity": 0.2
             }
            },
            "type": "histogram"
           }
          ],
          "histogram2d": [
           {
            "colorbar": {
             "outlinewidth": 0,
             "ticks": ""
            },
            "colorscale": [
             [
              0,
              "#0d0887"
             ],
             [
              0.1111111111111111,
              "#46039f"
             ],
             [
              0.2222222222222222,
              "#7201a8"
             ],
             [
              0.3333333333333333,
              "#9c179e"
             ],
             [
              0.4444444444444444,
              "#bd3786"
             ],
             [
              0.5555555555555556,
              "#d8576b"
             ],
             [
              0.6666666666666666,
              "#ed7953"
             ],
             [
              0.7777777777777778,
              "#fb9f3a"
             ],
             [
              0.8888888888888888,
              "#fdca26"
             ],
             [
              1,
              "#f0f921"
             ]
            ],
            "type": "histogram2d"
           }
          ],
          "histogram2dcontour": [
           {
            "colorbar": {
             "outlinewidth": 0,
             "ticks": ""
            },
            "colorscale": [
             [
              0,
              "#0d0887"
             ],
             [
              0.1111111111111111,
              "#46039f"
             ],
             [
              0.2222222222222222,
              "#7201a8"
             ],
             [
              0.3333333333333333,
              "#9c179e"
             ],
             [
              0.4444444444444444,
              "#bd3786"
             ],
             [
              0.5555555555555556,
              "#d8576b"
             ],
             [
              0.6666666666666666,
              "#ed7953"
             ],
             [
              0.7777777777777778,
              "#fb9f3a"
             ],
             [
              0.8888888888888888,
              "#fdca26"
             ],
             [
              1,
              "#f0f921"
             ]
            ],
            "type": "histogram2dcontour"
           }
          ],
          "mesh3d": [
           {
            "colorbar": {
             "outlinewidth": 0,
             "ticks": ""
            },
            "type": "mesh3d"
           }
          ],
          "parcoords": [
           {
            "line": {
             "colorbar": {
              "outlinewidth": 0,
              "ticks": ""
             }
            },
            "type": "parcoords"
           }
          ],
          "pie": [
           {
            "automargin": true,
            "type": "pie"
           }
          ],
          "scatter": [
           {
            "fillpattern": {
             "fillmode": "overlay",
             "size": 10,
             "solidity": 0.2
            },
            "type": "scatter"
           }
          ],
          "scatter3d": [
           {
            "line": {
             "colorbar": {
              "outlinewidth": 0,
              "ticks": ""
             }
            },
            "marker": {
             "colorbar": {
              "outlinewidth": 0,
              "ticks": ""
             }
            },
            "type": "scatter3d"
           }
          ],
          "scattercarpet": [
           {
            "marker": {
             "colorbar": {
              "outlinewidth": 0,
              "ticks": ""
             }
            },
            "type": "scattercarpet"
           }
          ],
          "scattergeo": [
           {
            "marker": {
             "colorbar": {
              "outlinewidth": 0,
              "ticks": ""
             }
            },
            "type": "scattergeo"
           }
          ],
          "scattergl": [
           {
            "marker": {
             "colorbar": {
              "outlinewidth": 0,
              "ticks": ""
             }
            },
            "type": "scattergl"
           }
          ],
          "scattermap": [
           {
            "marker": {
             "colorbar": {
              "outlinewidth": 0,
              "ticks": ""
             }
            },
            "type": "scattermap"
           }
          ],
          "scattermapbox": [
           {
            "marker": {
             "colorbar": {
              "outlinewidth": 0,
              "ticks": ""
             }
            },
            "type": "scattermapbox"
           }
          ],
          "scatterpolar": [
           {
            "marker": {
             "colorbar": {
              "outlinewidth": 0,
              "ticks": ""
             }
            },
            "type": "scatterpolar"
           }
          ],
          "scatterpolargl": [
           {
            "marker": {
             "colorbar": {
              "outlinewidth": 0,
              "ticks": ""
             }
            },
            "type": "scatterpolargl"
           }
          ],
          "scatterternary": [
           {
            "marker": {
             "colorbar": {
              "outlinewidth": 0,
              "ticks": ""
             }
            },
            "type": "scatterternary"
           }
          ],
          "surface": [
           {
            "colorbar": {
             "outlinewidth": 0,
             "ticks": ""
            },
            "colorscale": [
             [
              0,
              "#0d0887"
             ],
             [
              0.1111111111111111,
              "#46039f"
             ],
             [
              0.2222222222222222,
              "#7201a8"
             ],
             [
              0.3333333333333333,
              "#9c179e"
             ],
             [
              0.4444444444444444,
              "#bd3786"
             ],
             [
              0.5555555555555556,
              "#d8576b"
             ],
             [
              0.6666666666666666,
              "#ed7953"
             ],
             [
              0.7777777777777778,
              "#fb9f3a"
             ],
             [
              0.8888888888888888,
              "#fdca26"
             ],
             [
              1,
              "#f0f921"
             ]
            ],
            "type": "surface"
           }
          ],
          "table": [
           {
            "cells": {
             "fill": {
              "color": "#EBF0F8"
             },
             "line": {
              "color": "white"
             }
            },
            "header": {
             "fill": {
              "color": "#C8D4E3"
             },
             "line": {
              "color": "white"
             }
            },
            "type": "table"
           }
          ]
         },
         "layout": {
          "annotationdefaults": {
           "arrowcolor": "#2a3f5f",
           "arrowhead": 0,
           "arrowwidth": 1
          },
          "autotypenumbers": "strict",
          "coloraxis": {
           "colorbar": {
            "outlinewidth": 0,
            "ticks": ""
           }
          },
          "colorscale": {
           "diverging": [
            [
             0,
             "#8e0152"
            ],
            [
             0.1,
             "#c51b7d"
            ],
            [
             0.2,
             "#de77ae"
            ],
            [
             0.3,
             "#f1b6da"
            ],
            [
             0.4,
             "#fde0ef"
            ],
            [
             0.5,
             "#f7f7f7"
            ],
            [
             0.6,
             "#e6f5d0"
            ],
            [
             0.7,
             "#b8e186"
            ],
            [
             0.8,
             "#7fbc41"
            ],
            [
             0.9,
             "#4d9221"
            ],
            [
             1,
             "#276419"
            ]
           ],
           "sequential": [
            [
             0,
             "#0d0887"
            ],
            [
             0.1111111111111111,
             "#46039f"
            ],
            [
             0.2222222222222222,
             "#7201a8"
            ],
            [
             0.3333333333333333,
             "#9c179e"
            ],
            [
             0.4444444444444444,
             "#bd3786"
            ],
            [
             0.5555555555555556,
             "#d8576b"
            ],
            [
             0.6666666666666666,
             "#ed7953"
            ],
            [
             0.7777777777777778,
             "#fb9f3a"
            ],
            [
             0.8888888888888888,
             "#fdca26"
            ],
            [
             1,
             "#f0f921"
            ]
           ],
           "sequentialminus": [
            [
             0,
             "#0d0887"
            ],
            [
             0.1111111111111111,
             "#46039f"
            ],
            [
             0.2222222222222222,
             "#7201a8"
            ],
            [
             0.3333333333333333,
             "#9c179e"
            ],
            [
             0.4444444444444444,
             "#bd3786"
            ],
            [
             0.5555555555555556,
             "#d8576b"
            ],
            [
             0.6666666666666666,
             "#ed7953"
            ],
            [
             0.7777777777777778,
             "#fb9f3a"
            ],
            [
             0.8888888888888888,
             "#fdca26"
            ],
            [
             1,
             "#f0f921"
            ]
           ]
          },
          "colorway": [
           "#636efa",
           "#EF553B",
           "#00cc96",
           "#ab63fa",
           "#FFA15A",
           "#19d3f3",
           "#FF6692",
           "#B6E880",
           "#FF97FF",
           "#FECB52"
          ],
          "font": {
           "color": "#2a3f5f"
          },
          "geo": {
           "bgcolor": "white",
           "lakecolor": "white",
           "landcolor": "#E5ECF6",
           "showlakes": true,
           "showland": true,
           "subunitcolor": "white"
          },
          "hoverlabel": {
           "align": "left"
          },
          "hovermode": "closest",
          "mapbox": {
           "style": "light"
          },
          "paper_bgcolor": "white",
          "plot_bgcolor": "#E5ECF6",
          "polar": {
           "angularaxis": {
            "gridcolor": "white",
            "linecolor": "white",
            "ticks": ""
           },
           "bgcolor": "#E5ECF6",
           "radialaxis": {
            "gridcolor": "white",
            "linecolor": "white",
            "ticks": ""
           }
          },
          "scene": {
           "xaxis": {
            "backgroundcolor": "#E5ECF6",
            "gridcolor": "white",
            "gridwidth": 2,
            "linecolor": "white",
            "showbackground": true,
            "ticks": "",
            "zerolinecolor": "white"
           },
           "yaxis": {
            "backgroundcolor": "#E5ECF6",
            "gridcolor": "white",
            "gridwidth": 2,
            "linecolor": "white",
            "showbackground": true,
            "ticks": "",
            "zerolinecolor": "white"
           },
           "zaxis": {
            "backgroundcolor": "#E5ECF6",
            "gridcolor": "white",
            "gridwidth": 2,
            "linecolor": "white",
            "showbackground": true,
            "ticks": "",
            "zerolinecolor": "white"
           }
          },
          "shapedefaults": {
           "line": {
            "color": "#2a3f5f"
           }
          },
          "ternary": {
           "aaxis": {
            "gridcolor": "white",
            "linecolor": "white",
            "ticks": ""
           },
           "baxis": {
            "gridcolor": "white",
            "linecolor": "white",
            "ticks": ""
           },
           "bgcolor": "#E5ECF6",
           "caxis": {
            "gridcolor": "white",
            "linecolor": "white",
            "ticks": ""
           }
          },
          "title": {
           "x": 0.05
          },
          "xaxis": {
           "automargin": true,
           "gridcolor": "white",
           "linecolor": "white",
           "ticks": "",
           "title": {
            "standoff": 15
           },
           "zerolinecolor": "white",
           "zerolinewidth": 2
          },
          "yaxis": {
           "automargin": true,
           "gridcolor": "white",
           "linecolor": "white",
           "ticks": "",
           "title": {
            "standoff": 15
           },
           "zerolinecolor": "white",
           "zerolinewidth": 2
          }
         }
        },
        "title": {}
       }
      }
     },
     "metadata": {},
     "output_type": "display_data"
    }
   ],
   "source": [
    "# Show the figure\n",
    "R2C.ROAD2CARY_MAP.show(config=R2C.MAP_CONFIGS)"
   ]
  },
  {
   "cell_type": "code",
   "execution_count": 3,
   "metadata": {},
   "outputs": [],
   "source": [
    "# Save the figure\n",
    "R2C.ROAD2CARY_MAP.write_html(\"index.html\", include_plotlyjs='cdn')"
   ]
  }
 ],
 "metadata": {
  "kernelspec": {
   "display_name": "Road2Cary",
   "language": "python",
   "name": "python3"
  },
  "language_info": {
   "codemirror_mode": {
    "name": "ipython",
    "version": 3
   },
   "file_extension": ".py",
   "mimetype": "text/x-python",
   "name": "python",
   "nbconvert_exporter": "python",
   "pygments_lexer": "ipython3",
   "version": "3.13.3"
  }
 },
 "nbformat": 4,
 "nbformat_minor": 2
}
