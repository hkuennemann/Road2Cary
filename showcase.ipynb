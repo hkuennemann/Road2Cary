{
 "cells": [
  {
   "cell_type": "code",
   "execution_count": 1,
   "metadata": {},
   "outputs": [],
   "source": [
    "import LibRoad2Cary as R2C"
   ]
  },
  {
   "cell_type": "code",
   "execution_count": 2,
   "metadata": {},
   "outputs": [],
   "source": [
    "# Specify the date for which you want to have the map\n",
    "date = '06_12_25'"
   ]
  },
  {
   "cell_type": "code",
   "execution_count": 3,
   "metadata": {},
   "outputs": [],
   "source": [
    "# Create the map\n",
    "R2C_map = R2C.Road2CaryMap(date)"
   ]
  },
  {
   "cell_type": "code",
   "execution_count": 5,
   "metadata": {},
   "outputs": [
    {
     "data": {
      "application/vnd.plotly.v1+json": {
       "config": {
        "displayModeBar": false,
        "doubleClick": false,
        "plotlyServerURL": "https://plot.ly",
        "scrollZoom": false
       },
       "data": [
        {
         "lat": [
          51.5719,
          55.6761
         ],
         "line": {
          "color": "black",
          "dash": "dot"
         },
         "lon": [
          -0.776,
          12.5683
         ],
         "mode": "lines",
         "showlegend": false,
         "type": "scattergeo"
        },
        {
         "lat": [
          55.6761,
          60.1695
         ],
         "line": {
          "color": "black",
          "dash": "dot"
         },
         "lon": [
          12.5683,
          24.9354
         ],
         "mode": "lines",
         "showlegend": false,
         "type": "scattergeo"
        },
        {
         "lat": [
          60.1695,
          59.3293
         ],
         "line": {
          "color": "black",
          "dash": "dot"
         },
         "lon": [
          24.9354,
          18.0686
         ],
         "mode": "lines",
         "showlegend": false,
         "type": "scattergeo"
        },
        {
         "lat": [
          59.3293,
          59.9139
         ],
         "line": {
          "color": "black",
          "dash": "dot"
         },
         "lon": [
          18.0686,
          10.7522
         ],
         "mode": "lines",
         "showlegend": false,
         "type": "scattergeo"
        },
        {
         "lat": [
          59.9139,
          55.8642
         ],
         "line": {
          "color": "black",
          "dash": "dot"
         },
         "lon": [
          10.7522,
          -4.2518
         ],
         "mode": "lines",
         "showlegend": false,
         "type": "scattergeo"
        },
        {
         "lat": [
          55.8642,
          53.3498
         ],
         "line": {
          "color": "black",
          "dash": "dot"
         },
         "lon": [
          -4.2518,
          -6.2603
         ],
         "mode": "lines",
         "showlegend": false,
         "type": "scattergeo"
        },
        {
         "lat": [
          53.3498,
          35.7915
         ],
         "line": {
          "color": "black",
          "dash": "dot"
         },
         "lon": [
          -6.2603,
          -78.7811
         ],
         "mode": "lines",
         "showlegend": false,
         "type": "scattergeo"
        },
        {
         "hoverinfo": "text",
         "lat": [
          51.5719
         ],
         "lon": [
          -0.776
         ],
         "marker": {
          "color": "black",
          "size": 8,
          "symbol": "diamond"
         },
         "mode": "markers",
         "showlegend": false,
         "text": "Marlow",
         "type": "scattergeo"
        },
        {
         "hoverinfo": "skip",
         "lat": [
          51.5719,
          49.1219
         ],
         "line": {
          "color": "black",
          "dash": "dot",
          "width": 1.5
         },
         "lon": [
          -0.776,
          0.974
         ],
         "mode": "lines",
         "showlegend": false,
         "type": "scattergeo"
        },
        {
         "hoverinfo": "skip",
         "lat": [
          48.0719
         ],
         "lon": [
          1.724
         ],
         "mode": "text",
         "showlegend": false,
         "text": [
          "Marlow"
         ],
         "textfont": {
          "color": "black",
          "size": 14
         },
         "textposition": "middle center",
         "type": "scattergeo"
        },
        {
         "hoverinfo": "text",
         "lat": [
          55.6761
         ],
         "lon": [
          12.5683
         ],
         "marker": {
          "color": "black",
          "size": 8,
          "symbol": "diamond"
         },
         "mode": "markers",
         "showlegend": false,
         "text": "Copenhagen",
         "type": "scattergeo"
        },
        {
         "hoverinfo": "skip",
         "lat": [
          55.6761,
          53.226099999999995
         ],
         "line": {
          "color": "black",
          "dash": "dot",
          "width": 1.5
         },
         "lon": [
          12.5683,
          12.5683
         ],
         "mode": "lines",
         "showlegend": false,
         "type": "scattergeo"
        },
        {
         "hoverinfo": "skip",
         "lat": [
          52.1761
         ],
         "lon": [
          12.5683
         ],
         "mode": "text",
         "showlegend": false,
         "text": [
          "Copenhagen"
         ],
         "textfont": {
          "color": "black",
          "size": 14
         },
         "textposition": "middle center",
         "type": "scattergeo"
        },
        {
         "hoverinfo": "text",
         "lat": [
          60.1695
         ],
         "lon": [
          24.9354
         ],
         "marker": {
          "color": "black",
          "size": 8,
          "symbol": "diamond"
         },
         "mode": "markers",
         "showlegend": false,
         "text": "Helsinki",
         "type": "scattergeo"
        },
        {
         "hoverinfo": "skip",
         "lat": [
          60.1695,
          63.6695
         ],
         "line": {
          "color": "black",
          "dash": "dot",
          "width": 1.5
         },
         "lon": [
          24.9354,
          24.9354
         ],
         "mode": "lines",
         "showlegend": false,
         "type": "scattergeo"
        },
        {
         "hoverinfo": "skip",
         "lat": [
          65.1695
         ],
         "lon": [
          24.9354
         ],
         "mode": "text",
         "showlegend": false,
         "text": [
          "Helsinki"
         ],
         "textfont": {
          "color": "black",
          "size": 14
         },
         "textposition": "middle center",
         "type": "scattergeo"
        },
        {
         "hoverinfo": "text",
         "lat": [
          59.3293
         ],
         "lon": [
          18.0686
         ],
         "marker": {
          "color": "black",
          "size": 8,
          "symbol": "diamond"
         },
         "mode": "markers",
         "showlegend": false,
         "text": "Stockholm",
         "type": "scattergeo"
        },
        {
         "hoverinfo": "skip",
         "lat": [
          59.3293,
          62.1293
         ],
         "line": {
          "color": "black",
          "dash": "dot",
          "width": 1.5
         },
         "lon": [
          18.0686,
          18.0686
         ],
         "mode": "lines",
         "showlegend": false,
         "type": "scattergeo"
        },
        {
         "hoverinfo": "skip",
         "lat": [
          63.3293
         ],
         "lon": [
          18.0686
         ],
         "mode": "text",
         "showlegend": false,
         "text": [
          "Stockholm"
         ],
         "textfont": {
          "color": "black",
          "size": 14
         },
         "textposition": "middle center",
         "type": "scattergeo"
        },
        {
         "hoverinfo": "text",
         "lat": [
          59.9139
         ],
         "lon": [
          10.7522
         ],
         "marker": {
          "color": "black",
          "size": 8,
          "symbol": "diamond"
         },
         "mode": "markers",
         "showlegend": false,
         "text": "Oslo",
         "type": "scattergeo"
        },
        {
         "hoverinfo": "skip",
         "lat": [
          59.9139,
          61.3139
         ],
         "line": {
          "color": "black",
          "dash": "dot",
          "width": 1.5
         },
         "lon": [
          10.7522,
          10.4022
         ],
         "mode": "lines",
         "showlegend": false,
         "type": "scattergeo"
        },
        {
         "hoverinfo": "skip",
         "lat": [
          61.9139
         ],
         "lon": [
          10.2522
         ],
         "mode": "text",
         "showlegend": false,
         "text": [
          "Oslo"
         ],
         "textfont": {
          "color": "black",
          "size": 14
         },
         "textposition": "middle center",
         "type": "scattergeo"
        },
        {
         "hoverinfo": "text",
         "lat": [
          55.8642
         ],
         "lon": [
          -4.2518
         ],
         "marker": {
          "color": "black",
          "size": 8,
          "symbol": "diamond"
         },
         "mode": "markers",
         "showlegend": false,
         "text": "Glasgow",
         "type": "scattergeo"
        },
        {
         "hoverinfo": "skip",
         "lat": [
          55.8642,
          57.9642
         ],
         "line": {
          "color": "black",
          "dash": "dot",
          "width": 1.5
         },
         "lon": [
          -4.2518,
          -4.2518
         ],
         "mode": "lines",
         "showlegend": false,
         "type": "scattergeo"
        },
        {
         "hoverinfo": "skip",
         "lat": [
          58.8642
         ],
         "lon": [
          -4.2518
         ],
         "mode": "text",
         "showlegend": false,
         "text": [
          "Glasgow"
         ],
         "textfont": {
          "color": "black",
          "size": 14
         },
         "textposition": "middle center",
         "type": "scattergeo"
        },
        {
         "hoverinfo": "text",
         "lat": [
          53.3498
         ],
         "lon": [
          -6.2603
         ],
         "marker": {
          "color": "black",
          "size": 8,
          "symbol": "diamond"
         },
         "mode": "markers",
         "showlegend": false,
         "text": "Dublin",
         "type": "scattergeo"
        },
        {
         "hoverinfo": "skip",
         "lat": [
          53.3498,
          51.2498
         ],
         "line": {
          "color": "black",
          "dash": "dot",
          "width": 1.5
         },
         "lon": [
          -6.2603,
          -7.660299999999999
         ],
         "mode": "lines",
         "showlegend": false,
         "type": "scattergeo"
        },
        {
         "hoverinfo": "skip",
         "lat": [
          50.3498
         ],
         "lon": [
          -8.2603
         ],
         "mode": "text",
         "showlegend": false,
         "text": [
          "Dublin"
         ],
         "textfont": {
          "color": "black",
          "size": 14
         },
         "textposition": "middle center",
         "type": "scattergeo"
        },
        {
         "hoverinfo": "text",
         "lat": [
          35.7915
         ],
         "lon": [
          -78.7811
         ],
         "marker": {
          "color": "black",
          "size": 8,
          "symbol": "diamond"
         },
         "mode": "markers",
         "showlegend": false,
         "text": "Cary",
         "type": "scattergeo"
        },
        {
         "hoverinfo": "skip",
         "lat": [
          35.7915,
          37.8915
         ],
         "line": {
          "color": "black",
          "dash": "dot",
          "width": 1.5
         },
         "lon": [
          -78.7811,
          -79.83109999999999
         ],
         "mode": "lines",
         "showlegend": false,
         "type": "scattergeo"
        },
        {
         "hoverinfo": "skip",
         "lat": [
          38.7915
         ],
         "lon": [
          -80.2811
         ],
         "mode": "text",
         "showlegend": false,
         "text": [
          "Cary"
         ],
         "textfont": {
          "color": "black",
          "size": 14
         },
         "textposition": "middle center",
         "type": "scattergeo"
        },
        {
         "hoverinfo": "text",
         "lat": [
          52.145111133177835
         ],
         "lon": [
          0.6994825719352473
         ],
         "marker": {
          "color": "Blue",
          "size": 6
         },
         "mode": "markers",
         "showlegend": false,
         "text": "404 Fit Not Found<br>120.0 km",
         "type": "scattergeo"
        },
        {
         "hoverinfo": "text",
         "lat": [
          58.078692345440466
         ],
         "lon": [
          18.367565371347407
         ],
         "marker": {
          "color": "Blue",
          "size": 6
         },
         "mode": "markers",
         "showlegend": false,
         "text": "Cardio Cocktails<br>1435.0 km",
         "type": "scattergeo"
        },
        {
         "hoverinfo": "text",
         "lat": [
          58.78794025924805
         ],
         "lon": [
          20.387653185947602
         ],
         "marker": {
          "color": "Blue",
          "size": 6
         },
         "mode": "markers",
         "showlegend": false,
         "text": "Cary On, The A Team!<br>1577.0 km",
         "type": "scattergeo"
        },
        {
         "hoverinfo": "text",
         "lat": [
          54.63599259868135
         ],
         "lon": [
          8.381820269573247
         ],
         "marker": {
          "color": "Blue",
          "size": 6
         },
         "mode": "markers",
         "showlegend": false,
         "text": "Catch us if you can<br>701.0 km",
         "type": "scattergeo"
        },
        {
         "hoverinfo": "text",
         "lat": [
          56.04583614578033
         ],
         "lon": [
          13.374852780512743
         ],
         "marker": {
          "color": "Blue",
          "size": 6
         },
         "mode": "markers",
         "showlegend": false,
         "text": "Channel Chasers<br>1057.0 km",
         "type": "scattergeo"
        },
        {
         "hoverinfo": "text",
         "lat": [
          53.91791884548352
         ],
         "lon": [
          5.905668214967917
         ],
         "marker": {
          "color": "Blue",
          "size": 6
         },
         "mode": "markers",
         "showlegend": false,
         "text": "Commercial Sales<br>521.0 km",
         "type": "scattergeo"
        },
        {
         "hoverinfo": "text",
         "lat": [
          55.07282202033217
         ],
         "lon": [
          10.029541081929642
         ],
         "marker": {
          "color": "Blue",
          "size": 6
         },
         "mode": "markers",
         "showlegend": false,
         "text": "Ctrl + Alt + Elite<br>817.5 km",
         "type": "scattergeo"
        },
        {
         "hoverinfo": "text",
         "lat": [
          58.027558189205095
         ],
         "lon": [
          18.228354463200247
         ],
         "marker": {
          "color": "Blue",
          "size": 6
         },
         "mode": "markers",
         "showlegend": false,
         "text": "IDeaS_2<br>1425.0 km",
         "type": "scattergeo"
        },
        {
         "hoverinfo": "text",
         "lat": [
          53.90552400018025
         ],
         "lon": [
          5.865129629652404
         ],
         "marker": {
          "color": "Blue",
          "size": 6
         },
         "mode": "markers",
         "showlegend": false,
         "text": "NE FS CA<br>518.0 km",
         "type": "scattergeo"
        },
        {
         "hoverinfo": "text",
         "lat": [
          55.201625906584766
         ],
         "lon": [
          10.539438918098172
         ],
         "marker": {
          "color": "Blue",
          "size": 6
         },
         "mode": "markers",
         "showlegend": false,
         "text": "NE Marketing<br>853.0 km",
         "type": "scattergeo"
        },
        {
         "hoverinfo": "text",
         "lat": [
          56.02329090440063
         ],
         "lon": [
          13.324894214064251
         ],
         "marker": {
          "color": "Blue",
          "size": 6
         },
         "mode": "markers",
         "showlegend": false,
         "text": "Outliers<br>1053.0 km",
         "type": "scattergeo"
        },
        {
         "hoverinfo": "text",
         "lat": [
          60.122736175444444
         ],
         "lon": [
          24.738198926609602
         ],
         "marker": {
          "color": "Blue",
          "size": 6
         },
         "mode": "markers",
         "showlegend": false,
         "text": "Platfrom Consuling Team!<br>1865.0 km",
         "type": "scattergeo"
        },
        {
         "hoverinfo": "text",
         "lat": [
          55.61374650390272
         ],
         "lon": [
          12.255776443038574
         ],
         "marker": {
          "color": "Blue",
          "size": 6
         },
         "mode": "markers",
         "showlegend": false,
         "text": "Team B<br>971.0 km",
         "type": "scattergeo"
        },
        {
         "hoverinfo": "text",
         "lat": [
          53.77664411044126
         ],
         "lon": [
          5.44763690063915
         ],
         "marker": {
          "color": "Blue",
          "size": 6
         },
         "mode": "markers",
         "showlegend": false,
         "text": "Team C<br>487.0 km",
         "type": "scattergeo"
        },
        {
         "hoverinfo": "text",
         "lat": [
          54.67437558807784
         ],
         "lon": [
          8.521904003265021
         ],
         "marker": {
          "color": "Blue",
          "size": 6
         },
         "mode": "markers",
         "showlegend": false,
         "text": "Team E<br>711.0 km",
         "type": "scattergeo"
        },
        {
         "hoverinfo": "text",
         "lat": [
          55.84788040750887
         ],
         "lon": [
          12.939684012293961
         ],
         "marker": {
          "color": "Blue",
          "size": 6
         },
         "mode": "markers",
         "showlegend": false,
         "text": "Team F<br>1022.0 km",
         "type": "scattergeo"
        },
        {
         "hoverinfo": "text",
         "lat": [
          54.48475635889245
         ],
         "lon": [
          7.838019886516218
         ],
         "marker": {
          "color": "Blue",
          "size": 6
         },
         "mode": "markers",
         "showlegend": false,
         "text": "Team Ireland<br>662.0 km",
         "type": "scattergeo"
        },
        {
         "hoverinfo": "text",
         "lat": [
          52.74463721656428
         ],
         "lon": [
          2.3405178290645026
         ],
         "marker": {
          "color": "Blue",
          "size": 6
         },
         "mode": "markers",
         "showlegend": false,
         "text": "Team Oslo<br>250.0 km",
         "type": "scattergeo"
        },
        {
         "hoverinfo": "text",
         "lat": [
          55.63743174782035
         ],
         "lon": [
          12.35871077693312
         ],
         "marker": {
          "color": "Blue",
          "size": 6
         },
         "mode": "markers",
         "showlegend": false,
         "text": "Yield Me If You Can<br>978.0 km",
         "type": "scattergeo"
        }
       ],
       "layout": {
        "annotations": [
         {
          "font": {
           "color": "gray",
           "size": 12
          },
          "showarrow": false,
          "text": "Last updated: 2025-06-13 12:32:57",
          "x": 0.25,
          "xref": "paper",
          "y": 0.05,
          "yref": "paper"
         }
        ],
        "autosize": true,
        "dragmode": false,
        "geo": {
         "coastlinecolor": "darkgray",
         "coastlinewidth": 0.3,
         "countrycolor": "#D9D9D9",
         "fitbounds": "locations",
         "landcolor": "#F2F2F2",
         "oceancolor": "#C4DEFD",
         "resolution": 50,
         "showcoastlines": true,
         "showcountries": true,
         "showland": true,
         "showocean": true
        },
        "images": [
         {
          "layer": "above",
          "sizex": 0.2,
          "sizey": 0.2,
          "source": "data:image/png;base64,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",
          "x": 0.905,
          "xanchor": "center",
          "xref": "paper",
          "y": 0.125,
          "yanchor": "middle",
          "yref": "paper"
         }
        ],
        "margin": {
         "b": 0,
         "l": 0,
         "r": 0,
         "t": 0
        },
        "showlegend": false,
        "template": {
         "data": {
          "bar": [
           {
            "error_x": {
             "color": "#2a3f5f"
            },
            "error_y": {
             "color": "#2a3f5f"
            },
            "marker": {
             "line": {
              "color": "#E5ECF6",
              "width": 0.5
             },
             "pattern": {
              "fillmode": "overlay",
              "size": 10,
              "solidity": 0.2
             }
            },
            "type": "bar"
           }
          ],
          "barpolar": [
           {
            "marker": {
             "line": {
              "color": "#E5ECF6",
              "width": 0.5
             },
             "pattern": {
              "fillmode": "overlay",
              "size": 10,
              "solidity": 0.2
             }
            },
            "type": "barpolar"
           }
          ],
          "carpet": [
           {
            "aaxis": {
             "endlinecolor": "#2a3f5f",
             "gridcolor": "white",
             "linecolor": "white",
             "minorgridcolor": "white",
             "startlinecolor": "#2a3f5f"
            },
            "baxis": {
             "endlinecolor": "#2a3f5f",
             "gridcolor": "white",
             "linecolor": "white",
             "minorgridcolor": "white",
             "startlinecolor": "#2a3f5f"
            },
            "type": "carpet"
           }
          ],
          "choropleth": [
           {
            "colorbar": {
             "outlinewidth": 0,
             "ticks": ""
            },
            "type": "choropleth"
           }
          ],
          "contour": [
           {
            "colorbar": {
             "outlinewidth": 0,
             "ticks": ""
            },
            "colorscale": [
             [
              0,
              "#0d0887"
             ],
             [
              0.1111111111111111,
              "#46039f"
             ],
             [
              0.2222222222222222,
              "#7201a8"
             ],
             [
              0.3333333333333333,
              "#9c179e"
             ],
             [
              0.4444444444444444,
              "#bd3786"
             ],
             [
              0.5555555555555556,
              "#d8576b"
             ],
             [
              0.6666666666666666,
              "#ed7953"
             ],
             [
              0.7777777777777778,
              "#fb9f3a"
             ],
             [
              0.8888888888888888,
              "#fdca26"
             ],
             [
              1,
              "#f0f921"
             ]
            ],
            "type": "contour"
           }
          ],
          "contourcarpet": [
           {
            "colorbar": {
             "outlinewidth": 0,
             "ticks": ""
            },
            "type": "contourcarpet"
           }
          ],
          "heatmap": [
           {
            "colorbar": {
             "outlinewidth": 0,
             "ticks": ""
            },
            "colorscale": [
             [
              0,
              "#0d0887"
             ],
             [
              0.1111111111111111,
              "#46039f"
             ],
             [
              0.2222222222222222,
              "#7201a8"
             ],
             [
              0.3333333333333333,
              "#9c179e"
             ],
             [
              0.4444444444444444,
              "#bd3786"
             ],
             [
              0.5555555555555556,
              "#d8576b"
             ],
             [
              0.6666666666666666,
              "#ed7953"
             ],
             [
              0.7777777777777778,
              "#fb9f3a"
             ],
             [
              0.8888888888888888,
              "#fdca26"
             ],
             [
              1,
              "#f0f921"
             ]
            ],
            "type": "heatmap"
           }
          ],
          "histogram": [
           {
            "marker": {
             "pattern": {
              "fillmode": "overlay",
              "size": 10,
              "solidity": 0.2
             }
            },
            "type": "histogram"
           }
          ],
          "histogram2d": [
           {
            "colorbar": {
             "outlinewidth": 0,
             "ticks": ""
            },
            "colorscale": [
             [
              0,
              "#0d0887"
             ],
             [
              0.1111111111111111,
              "#46039f"
             ],
             [
              0.2222222222222222,
              "#7201a8"
             ],
             [
              0.3333333333333333,
              "#9c179e"
             ],
             [
              0.4444444444444444,
              "#bd3786"
             ],
             [
              0.5555555555555556,
              "#d8576b"
             ],
             [
              0.6666666666666666,
              "#ed7953"
             ],
             [
              0.7777777777777778,
              "#fb9f3a"
             ],
             [
              0.8888888888888888,
              "#fdca26"
             ],
             [
              1,
              "#f0f921"
             ]
            ],
            "type": "histogram2d"
           }
          ],
          "histogram2dcontour": [
           {
            "colorbar": {
             "outlinewidth": 0,
             "ticks": ""
            },
            "colorscale": [
             [
              0,
              "#0d0887"
             ],
             [
              0.1111111111111111,
              "#46039f"
             ],
             [
              0.2222222222222222,
              "#7201a8"
             ],
             [
              0.3333333333333333,
              "#9c179e"
             ],
             [
              0.4444444444444444,
              "#bd3786"
             ],
             [
              0.5555555555555556,
              "#d8576b"
             ],
             [
              0.6666666666666666,
              "#ed7953"
             ],
             [
              0.7777777777777778,
              "#fb9f3a"
             ],
             [
              0.8888888888888888,
              "#fdca26"
             ],
             [
              1,
              "#f0f921"
             ]
            ],
            "type": "histogram2dcontour"
           }
          ],
          "mesh3d": [
           {
            "colorbar": {
             "outlinewidth": 0,
             "ticks": ""
            },
            "type": "mesh3d"
           }
          ],
          "parcoords": [
           {
            "line": {
             "colorbar": {
              "outlinewidth": 0,
              "ticks": ""
             }
            },
            "type": "parcoords"
           }
          ],
          "pie": [
           {
            "automargin": true,
            "type": "pie"
           }
          ],
          "scatter": [
           {
            "fillpattern": {
             "fillmode": "overlay",
             "size": 10,
             "solidity": 0.2
            },
            "type": "scatter"
           }
          ],
          "scatter3d": [
           {
            "line": {
             "colorbar": {
              "outlinewidth": 0,
              "ticks": ""
             }
            },
            "marker": {
             "colorbar": {
              "outlinewidth": 0,
              "ticks": ""
             }
            },
            "type": "scatter3d"
           }
          ],
          "scattercarpet": [
           {
            "marker": {
             "colorbar": {
              "outlinewidth": 0,
              "ticks": ""
             }
            },
            "type": "scattercarpet"
           }
          ],
          "scattergeo": [
           {
            "marker": {
             "colorbar": {
              "outlinewidth": 0,
              "ticks": ""
             }
            },
            "type": "scattergeo"
           }
          ],
          "scattergl": [
           {
            "marker": {
             "colorbar": {
              "outlinewidth": 0,
              "ticks": ""
             }
            },
            "type": "scattergl"
           }
          ],
          "scattermap": [
           {
            "marker": {
             "colorbar": {
              "outlinewidth": 0,
              "ticks": ""
             }
            },
            "type": "scattermap"
           }
          ],
          "scattermapbox": [
           {
            "marker": {
             "colorbar": {
              "outlinewidth": 0,
              "ticks": ""
             }
            },
            "type": "scattermapbox"
           }
          ],
          "scatterpolar": [
           {
            "marker": {
             "colorbar": {
              "outlinewidth": 0,
              "ticks": ""
             }
            },
            "type": "scatterpolar"
           }
          ],
          "scatterpolargl": [
           {
            "marker": {
             "colorbar": {
              "outlinewidth": 0,
              "ticks": ""
             }
            },
            "type": "scatterpolargl"
           }
          ],
          "scatterternary": [
           {
            "marker": {
             "colorbar": {
              "outlinewidth": 0,
              "ticks": ""
             }
            },
            "type": "scatterternary"
           }
          ],
          "surface": [
           {
            "colorbar": {
             "outlinewidth": 0,
             "ticks": ""
            },
            "colorscale": [
             [
              0,
              "#0d0887"
             ],
             [
              0.1111111111111111,
              "#46039f"
             ],
             [
              0.2222222222222222,
              "#7201a8"
             ],
             [
              0.3333333333333333,
              "#9c179e"
             ],
             [
              0.4444444444444444,
              "#bd3786"
             ],
             [
              0.5555555555555556,
              "#d8576b"
             ],
             [
              0.6666666666666666,
              "#ed7953"
             ],
             [
              0.7777777777777778,
              "#fb9f3a"
             ],
             [
              0.8888888888888888,
              "#fdca26"
             ],
             [
              1,
              "#f0f921"
             ]
            ],
            "type": "surface"
           }
          ],
          "table": [
           {
            "cells": {
             "fill": {
              "color": "#EBF0F8"
             },
             "line": {
              "color": "white"
             }
            },
            "header": {
             "fill": {
              "color": "#C8D4E3"
             },
             "line": {
              "color": "white"
             }
            },
            "type": "table"
           }
          ]
         },
         "layout": {
          "annotationdefaults": {
           "arrowcolor": "#2a3f5f",
           "arrowhead": 0,
           "arrowwidth": 1
          },
          "autotypenumbers": "strict",
          "coloraxis": {
           "colorbar": {
            "outlinewidth": 0,
            "ticks": ""
           }
          },
          "colorscale": {
           "diverging": [
            [
             0,
             "#8e0152"
            ],
            [
             0.1,
             "#c51b7d"
            ],
            [
             0.2,
             "#de77ae"
            ],
            [
             0.3,
             "#f1b6da"
            ],
            [
             0.4,
             "#fde0ef"
            ],
            [
             0.5,
             "#f7f7f7"
            ],
            [
             0.6,
             "#e6f5d0"
            ],
            [
             0.7,
             "#b8e186"
            ],
            [
             0.8,
             "#7fbc41"
            ],
            [
             0.9,
             "#4d9221"
            ],
            [
             1,
             "#276419"
            ]
           ],
           "sequential": [
            [
             0,
             "#0d0887"
            ],
            [
             0.1111111111111111,
             "#46039f"
            ],
            [
             0.2222222222222222,
             "#7201a8"
            ],
            [
             0.3333333333333333,
             "#9c179e"
            ],
            [
             0.4444444444444444,
             "#bd3786"
            ],
            [
             0.5555555555555556,
             "#d8576b"
            ],
            [
             0.6666666666666666,
             "#ed7953"
            ],
            [
             0.7777777777777778,
             "#fb9f3a"
            ],
            [
             0.8888888888888888,
             "#fdca26"
            ],
            [
             1,
             "#f0f921"
            ]
           ],
           "sequentialminus": [
            [
             0,
             "#0d0887"
            ],
            [
             0.1111111111111111,
             "#46039f"
            ],
            [
             0.2222222222222222,
             "#7201a8"
            ],
            [
             0.3333333333333333,
             "#9c179e"
            ],
            [
             0.4444444444444444,
             "#bd3786"
            ],
            [
             0.5555555555555556,
             "#d8576b"
            ],
            [
             0.6666666666666666,
             "#ed7953"
            ],
            [
             0.7777777777777778,
             "#fb9f3a"
            ],
            [
             0.8888888888888888,
             "#fdca26"
            ],
            [
             1,
             "#f0f921"
            ]
           ]
          },
          "colorway": [
           "#636efa",
           "#EF553B",
           "#00cc96",
           "#ab63fa",
           "#FFA15A",
           "#19d3f3",
           "#FF6692",
           "#B6E880",
           "#FF97FF",
           "#FECB52"
          ],
          "font": {
           "color": "#2a3f5f"
          },
          "geo": {
           "bgcolor": "white",
           "lakecolor": "white",
           "landcolor": "#E5ECF6",
           "showlakes": true,
           "showland": true,
           "subunitcolor": "white"
          },
          "hoverlabel": {
           "align": "left"
          },
          "hovermode": "closest",
          "mapbox": {
           "style": "light"
          },
          "paper_bgcolor": "white",
          "plot_bgcolor": "#E5ECF6",
          "polar": {
           "angularaxis": {
            "gridcolor": "white",
            "linecolor": "white",
            "ticks": ""
           },
           "bgcolor": "#E5ECF6",
           "radialaxis": {
            "gridcolor": "white",
            "linecolor": "white",
            "ticks": ""
           }
          },
          "scene": {
           "xaxis": {
            "backgroundcolor": "#E5ECF6",
            "gridcolor": "white",
            "gridwidth": 2,
            "linecolor": "white",
            "showbackground": true,
            "ticks": "",
            "zerolinecolor": "white"
           },
           "yaxis": {
            "backgroundcolor": "#E5ECF6",
            "gridcolor": "white",
            "gridwidth": 2,
            "linecolor": "white",
            "showbackground": true,
            "ticks": "",
            "zerolinecolor": "white"
           },
           "zaxis": {
            "backgroundcolor": "#E5ECF6",
            "gridcolor": "white",
            "gridwidth": 2,
            "linecolor": "white",
            "showbackground": true,
            "ticks": "",
            "zerolinecolor": "white"
           }
          },
          "shapedefaults": {
           "line": {
            "color": "#2a3f5f"
           }
          },
          "ternary": {
           "aaxis": {
            "gridcolor": "white",
            "linecolor": "white",
            "ticks": ""
           },
           "baxis": {
            "gridcolor": "white",
            "linecolor": "white",
            "ticks": ""
           },
           "bgcolor": "#E5ECF6",
           "caxis": {
            "gridcolor": "white",
            "linecolor": "white",
            "ticks": ""
           }
          },
          "title": {
           "x": 0.05
          },
          "xaxis": {
           "automargin": true,
           "gridcolor": "white",
           "linecolor": "white",
           "ticks": "",
           "title": {
            "standoff": 15
           },
           "zerolinecolor": "white",
           "zerolinewidth": 2
          },
          "yaxis": {
           "automargin": true,
           "gridcolor": "white",
           "linecolor": "white",
           "ticks": "",
           "title": {
            "standoff": 15
           },
           "zerolinecolor": "white",
           "zerolinewidth": 2
          }
         }
        },
        "title": {}
       }
      }
     },
     "metadata": {},
     "output_type": "display_data"
    }
   ],
   "source": [
    "# Show the figure\n",
    "R2C_map.show()"
   ]
  },
  {
   "cell_type": "code",
   "execution_count": 7,
   "metadata": {},
   "outputs": [],
   "source": [
    "# Save the figure\n",
    "R2C_map.write_html()"
   ]
  }
 ],
 "metadata": {
  "kernelspec": {
   "display_name": "Road2Cary",
   "language": "python",
   "name": "python3"
  },
  "language_info": {
   "codemirror_mode": {
    "name": "ipython",
    "version": 3
   },
   "file_extension": ".py",
   "mimetype": "text/x-python",
   "name": "python",
   "nbconvert_exporter": "python",
   "pygments_lexer": "ipython3",
   "version": "3.13.3"
  }
 },
 "nbformat": 4,
 "nbformat_minor": 2
}
